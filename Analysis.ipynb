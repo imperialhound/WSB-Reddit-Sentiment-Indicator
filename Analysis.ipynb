{
 "cells": [
  {
   "cell_type": "code",
   "execution_count": 10,
   "metadata": {},
   "outputs": [],
   "source": [
    "import praw\n",
    "import pandas as pd\n",
    "\n",
    "\n",
    "# Accessing the reddit api\n",
    "\n",
    "client_id = '8NYRveQE2uAQvvkmjMkfmg'\n",
    "client_secret = 'kv1H-eSH4ez8bCgXR9ckJouSydJDOw'\n",
    "user_agent = 'Scraping Script'\n",
    "username = 'team20KU'\n",
    "password = 'Carhartt15'\n",
    "\n",
    "reddit = praw.Reddit(client_id=client_id,      # your client id\n",
    "                     client_secret=client_secret,  #your client secret\n",
    "                     user_agent=user_agent, #user agent name\n",
    "                     username = username,     # your reddit username\n",
    "                     password = password)     # your reddit password"
   ]
  },
  {
   "cell_type": "code",
   "execution_count": 16,
   "metadata": {},
   "outputs": [
    {
     "name": "stdout",
     "output_type": "stream",
     "text": [
      "test\n"
     ]
    }
   ],
   "source": [
    "# Setting the subreddit group to wallstreet group \n",
    "WWB = reddit.subreddit('wallstreetbets')\n",
    "\n",
    "\n",
    "post_dict = {\n",
    "            \"title\" : [],   #title of the post\n",
    "            \"score\" : [],   # score of the post\n",
    "            \"id\" : [],      # unique id of the post\n",
    "            \"url\" : [],     #url of the post\n",
    "            \"comms_num\": [],   #the number of comments on the post\n",
    "            \"created\" : [],  #timestamp of the post\n",
    "            \"body\" : []         # the descriptionof post\n",
    "        }\n",
    "comments_dict = {\n",
    "            \"comment_id\" : [],      #unique comm id\n",
    "            \"comment_parent_id\" : [],   # comment parent id\n",
    "            \"comment_body\" : [],   # text in comment\n",
    "            \"comment_link_id\" : []  #link to the comment\n",
    "        }\n",
    "for submission in WWB.hot(limit=1):\n",
    "    post_dict[\"title\"].append(submission.title)\n",
    "    post_dict[\"score\"].append(submission.score)\n",
    "    post_dict[\"id\"].append(submission.id)\n",
    "    post_dict[\"url\"].append(submission.url)\n",
    "    post_dict[\"comms_num\"].append(submission.num_comments)\n",
    "    post_dict[\"created\"].append(submission.created)\n",
    "    post_dict[\"body\"].append(submission.selftext)\n",
    "    print('test')\n",
    "            \n",
    "    ##### Acessing comments on the post\n",
    "    submission.comments.replace_more(limit = 1)\n",
    "    for comment in submission.comments.list():\n",
    "        comments_dict[\"comment_id\"].append(comment.id)\n",
    "        comments_dict[\"comment_parent_id\"].append(comment.parent_id)\n",
    "        comments_dict[\"comment_body\"].append(comment.body)\n",
    "        comments_dict[\"comment_link_id\"].append(comment.link_id)\n",
    "        \n",
    "post_comments = pd.DataFrame(comments_dict)\n",
    "\n",
    "#post_comments.to_csv(s+\"_comments_\"+ item +\"subreddit.csv\")\n",
    "post_data = pd.DataFrame(post_dict)\n",
    "#post_data.to_csv(s+\"_\"+ item +\"subreddit.csv\")\n",
    "\n",
    "\n"
   ]
  },
  {
   "cell_type": "code",
   "execution_count": 17,
   "metadata": {},
   "outputs": [
    {
     "data": {
      "text/html": [
       "<div>\n",
       "<style scoped>\n",
       "    .dataframe tbody tr th:only-of-type {\n",
       "        vertical-align: middle;\n",
       "    }\n",
       "\n",
       "    .dataframe tbody tr th {\n",
       "        vertical-align: top;\n",
       "    }\n",
       "\n",
       "    .dataframe thead th {\n",
       "        text-align: right;\n",
       "    }\n",
       "</style>\n",
       "<table border=\"1\" class=\"dataframe\">\n",
       "  <thead>\n",
       "    <tr style=\"text-align: right;\">\n",
       "      <th></th>\n",
       "      <th>title</th>\n",
       "      <th>score</th>\n",
       "      <th>id</th>\n",
       "      <th>url</th>\n",
       "      <th>comms_num</th>\n",
       "      <th>created</th>\n",
       "      <th>body</th>\n",
       "    </tr>\n",
       "  </thead>\n",
       "  <tbody>\n",
       "    <tr>\n",
       "      <th>0</th>\n",
       "      <td>Weekend Discussion Thread for the Weekend of A...</td>\n",
       "      <td>294</td>\n",
       "      <td>p3sv76</td>\n",
       "      <td>https://www.reddit.com/r/wallstreetbets/commen...</td>\n",
       "      <td>20588</td>\n",
       "      <td>1.628885e+09</td>\n",
       "      <td>Your weekend discussion thread. Please keep th...</td>\n",
       "    </tr>\n",
       "  </tbody>\n",
       "</table>\n",
       "</div>"
      ],
      "text/plain": [
       "                                               title  score      id  \\\n",
       "0  Weekend Discussion Thread for the Weekend of A...    294  p3sv76   \n",
       "\n",
       "                                                 url  comms_num       created  \\\n",
       "0  https://www.reddit.com/r/wallstreetbets/commen...      20588  1.628885e+09   \n",
       "\n",
       "                                                body  \n",
       "0  Your weekend discussion thread. Please keep th...  "
      ]
     },
     "execution_count": 17,
     "metadata": {},
     "output_type": "execute_result"
    }
   ],
   "source": [
    "post_data"
   ]
  },
  {
   "cell_type": "code",
   "execution_count": 18,
   "metadata": {},
   "outputs": [
    {
     "name": "stdout",
     "output_type": "stream",
     "text": [
      "['Your weekend discussion thread. Please keep the shitposting to a maximum!\\n\\nFollow [@Official_WSB](https://twitter.com/Official_WSB) on Twitter, all other accounts are impersonators.\\n\\nCheck out our [Discord](https://discord.gg/wallstreetbets)']\n"
     ]
    }
   ],
   "source": [
    "print(post_data.body.values)"
   ]
  },
  {
   "cell_type": "code",
   "execution_count": null,
   "metadata": {},
   "outputs": [],
   "source": []
  }
 ],
 "metadata": {
  "kernelspec": {
   "display_name": "Python 3 (ipykernel)",
   "language": "python",
   "name": "python3"
  },
  "language_info": {
   "codemirror_mode": {
    "name": "ipython",
    "version": 3
   },
   "file_extension": ".py",
   "mimetype": "text/x-python",
   "name": "python",
   "nbconvert_exporter": "python",
   "pygments_lexer": "ipython3",
   "version": "3.7.6"
  }
 },
 "nbformat": 4,
 "nbformat_minor": 4
}
